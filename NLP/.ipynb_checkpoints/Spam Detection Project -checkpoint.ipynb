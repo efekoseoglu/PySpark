{
 "cells": [
  {
   "cell_type": "code",
   "execution_count": 64,
   "metadata": {},
   "outputs": [],
   "source": [
    "import findspark"
   ]
  },
  {
   "cell_type": "code",
   "execution_count": 65,
   "metadata": {},
   "outputs": [],
   "source": [
    "findspark.init()"
   ]
  },
  {
   "cell_type": "code",
   "execution_count": 66,
   "metadata": {},
   "outputs": [],
   "source": [
    "from pyspark.sql import SparkSession"
   ]
  },
  {
   "cell_type": "code",
   "execution_count": 67,
   "metadata": {},
   "outputs": [],
   "source": [
    "spark = SparkSession.builder.appName(\"SpamDetection\").getOrCreate()"
   ]
  },
  {
   "cell_type": "code",
   "execution_count": 68,
   "metadata": {},
   "outputs": [],
   "source": [
    "data = spark.read.csv(\"smsspamcollection/SMSSpamCollection\",inferSchema=True,sep = \"\\t\")"
   ]
  },
  {
   "cell_type": "code",
   "execution_count": 69,
   "metadata": {},
   "outputs": [],
   "source": [
    "data = data.withColumnRenamed(\"_c0\",\"class\").withColumnRenamed(\"_c1\",\"text\")"
   ]
  },
  {
   "cell_type": "code",
   "execution_count": 70,
   "metadata": {},
   "outputs": [
    {
     "name": "stdout",
     "output_type": "stream",
     "text": [
      "+-----+--------------------+\n",
      "|class|                text|\n",
      "+-----+--------------------+\n",
      "|  ham|Go until jurong p...|\n",
      "|  ham|Ok lar... Joking ...|\n",
      "| spam|Free entry in 2 a...|\n",
      "|  ham|U dun say so earl...|\n",
      "|  ham|Nah I don't think...|\n",
      "| spam|FreeMsg Hey there...|\n",
      "|  ham|Even my brother i...|\n",
      "|  ham|As per your reque...|\n",
      "| spam|WINNER!! As a val...|\n",
      "| spam|Had your mobile 1...|\n",
      "|  ham|I'm gonna be home...|\n",
      "| spam|SIX chances to wi...|\n",
      "| spam|URGENT! You have ...|\n",
      "|  ham|I've been searchi...|\n",
      "|  ham|I HAVE A DATE ON ...|\n",
      "| spam|XXXMobileMovieClu...|\n",
      "|  ham|Oh k...i'm watchi...|\n",
      "|  ham|Eh u remember how...|\n",
      "|  ham|Fine if thats th...|\n",
      "| spam|England v Macedon...|\n",
      "+-----+--------------------+\n",
      "only showing top 20 rows\n",
      "\n"
     ]
    }
   ],
   "source": [
    "data.show()"
   ]
  },
  {
   "cell_type": "code",
   "execution_count": 71,
   "metadata": {},
   "outputs": [],
   "source": [
    "from pyspark.sql.functions import length"
   ]
  },
  {
   "cell_type": "code",
   "execution_count": 72,
   "metadata": {},
   "outputs": [],
   "source": [
    "data = data.withColumn(\"length\",length(data[\"text\"]))"
   ]
  },
  {
   "cell_type": "code",
   "execution_count": 73,
   "metadata": {},
   "outputs": [
    {
     "name": "stdout",
     "output_type": "stream",
     "text": [
      "+-----+--------------------+------+\n",
      "|class|                text|length|\n",
      "+-----+--------------------+------+\n",
      "|  ham|Go until jurong p...|   111|\n",
      "|  ham|Ok lar... Joking ...|    29|\n",
      "| spam|Free entry in 2 a...|   155|\n",
      "|  ham|U dun say so earl...|    49|\n",
      "|  ham|Nah I don't think...|    61|\n",
      "| spam|FreeMsg Hey there...|   147|\n",
      "|  ham|Even my brother i...|    77|\n",
      "|  ham|As per your reque...|   160|\n",
      "| spam|WINNER!! As a val...|   157|\n",
      "| spam|Had your mobile 1...|   154|\n",
      "|  ham|I'm gonna be home...|   109|\n",
      "| spam|SIX chances to wi...|   136|\n",
      "| spam|URGENT! You have ...|   155|\n",
      "|  ham|I've been searchi...|   196|\n",
      "|  ham|I HAVE A DATE ON ...|    35|\n",
      "| spam|XXXMobileMovieClu...|   149|\n",
      "|  ham|Oh k...i'm watchi...|    26|\n",
      "|  ham|Eh u remember how...|    81|\n",
      "|  ham|Fine if thats th...|    56|\n",
      "| spam|England v Macedon...|   155|\n",
      "+-----+--------------------+------+\n",
      "only showing top 20 rows\n",
      "\n"
     ]
    }
   ],
   "source": [
    "data.show()"
   ]
  },
  {
   "cell_type": "code",
   "execution_count": 74,
   "metadata": {},
   "outputs": [
    {
     "name": "stdout",
     "output_type": "stream",
     "text": [
      "+-----+-----------------+\n",
      "|class|      avg(length)|\n",
      "+-----+-----------------+\n",
      "|  ham|71.45431945307645|\n",
      "| spam|138.6706827309237|\n",
      "+-----+-----------------+\n",
      "\n"
     ]
    }
   ],
   "source": [
    "data.groupBy(\"class\").mean().show()"
   ]
  },
  {
   "cell_type": "code",
   "execution_count": 98,
   "metadata": {},
   "outputs": [],
   "source": [
    "from pyspark.ml.feature import Tokenizer,HashingTF,IDF,StopWordsRemover,CountVectorizer,StringIndexer"
   ]
  },
  {
   "cell_type": "code",
   "execution_count": 99,
   "metadata": {},
   "outputs": [],
   "source": [
    "tokenizer = Tokenizer(inputCol = \"text\", outputCol= \"words\")"
   ]
  },
  {
   "cell_type": "code",
   "execution_count": 100,
   "metadata": {},
   "outputs": [],
   "source": [
    "##words_data = tokenizer.transform(data)"
   ]
  },
  {
   "cell_type": "code",
   "execution_count": 101,
   "metadata": {},
   "outputs": [
    {
     "name": "stdout",
     "output_type": "stream",
     "text": [
      "+-----+--------------------+------+--------------------+\n",
      "|class|                text|length|               words|\n",
      "+-----+--------------------+------+--------------------+\n",
      "|  ham|Go until jurong p...|   111|[go, until, juron...|\n",
      "|  ham|Ok lar... Joking ...|    29|[ok, lar..., joki...|\n",
      "| spam|Free entry in 2 a...|   155|[free, entry, in,...|\n",
      "|  ham|U dun say so earl...|    49|[u, dun, say, so,...|\n",
      "|  ham|Nah I don't think...|    61|[nah, ı, don't, t...|\n",
      "| spam|FreeMsg Hey there...|   147|[freemsg, hey, th...|\n",
      "|  ham|Even my brother i...|    77|[even, my, brothe...|\n",
      "|  ham|As per your reque...|   160|[as, per, your, r...|\n",
      "| spam|WINNER!! As a val...|   157|[wınner!!, as, a,...|\n",
      "| spam|Had your mobile 1...|   154|[had, your, mobil...|\n",
      "|  ham|I'm gonna be home...|   109|[ı'm, gonna, be, ...|\n",
      "| spam|SIX chances to wi...|   136|[sıx, chances, to...|\n",
      "| spam|URGENT! You have ...|   155|[urgent!, you, ha...|\n",
      "|  ham|I've been searchi...|   196|[ı've, been, sear...|\n",
      "|  ham|I HAVE A DATE ON ...|    35|[ı, have, a, date...|\n",
      "| spam|XXXMobileMovieClu...|   149|[xxxmobilemoviecl...|\n",
      "|  ham|Oh k...i'm watchi...|    26|[oh, k...i'm, wat...|\n",
      "|  ham|Eh u remember how...|    81|[eh, u, remember,...|\n",
      "|  ham|Fine if thats th...|    56|[fine, if, thats...|\n",
      "| spam|England v Macedon...|   155|[england, v, mace...|\n",
      "+-----+--------------------+------+--------------------+\n",
      "only showing top 20 rows\n",
      "\n"
     ]
    }
   ],
   "source": [
    "##words_data.show()"
   ]
  },
  {
   "cell_type": "code",
   "execution_count": 102,
   "metadata": {},
   "outputs": [],
   "source": [
    "remover = StopWordsRemover(inputCol=\"words\", outputCol = \"filtered\" )"
   ]
  },
  {
   "cell_type": "code",
   "execution_count": 141,
   "metadata": {},
   "outputs": [],
   "source": [
    "##remover_data = remover.transform(words_data)"
   ]
  },
  {
   "cell_type": "code",
   "execution_count": 142,
   "metadata": {},
   "outputs": [
    {
     "name": "stdout",
     "output_type": "stream",
     "text": [
      "+-----+--------------------+------+--------------------+--------------------+\n",
      "|class|                text|length|               words|            filtered|\n",
      "+-----+--------------------+------+--------------------+--------------------+\n",
      "|  ham|Go until jurong p...|   111|[go, until, juron...|[go, jurong, poin...|\n",
      "|  ham|Ok lar... Joking ...|    29|[ok, lar..., joki...|[ok, lar..., joki...|\n",
      "| spam|Free entry in 2 a...|   155|[free, entry, in,...|[free, entry, 2, ...|\n",
      "|  ham|U dun say so earl...|    49|[u, dun, say, so,...|[u, dun, say, ear...|\n",
      "|  ham|Nah I don't think...|    61|[nah, ı, don't, t...|[nah, ı, think, g...|\n",
      "| spam|FreeMsg Hey there...|   147|[freemsg, hey, th...|[freemsg, hey, da...|\n",
      "|  ham|Even my brother i...|    77|[even, my, brothe...|[even, brother, l...|\n",
      "|  ham|As per your reque...|   160|[as, per, your, r...|[per, request, 'm...|\n",
      "| spam|WINNER!! As a val...|   157|[wınner!!, as, a,...|[wınner!!, valued...|\n",
      "| spam|Had your mobile 1...|   154|[had, your, mobil...|[mobile, 11, mont...|\n",
      "|  ham|I'm gonna be home...|   109|[ı'm, gonna, be, ...|[ı'm, gonna, home...|\n",
      "| spam|SIX chances to wi...|   136|[sıx, chances, to...|[sıx, chances, wi...|\n",
      "| spam|URGENT! You have ...|   155|[urgent!, you, ha...|[urgent!, won, 1,...|\n",
      "|  ham|I've been searchi...|   196|[ı've, been, sear...|[ı've, searching,...|\n",
      "|  ham|I HAVE A DATE ON ...|    35|[ı, have, a, date...|[ı, date, sunday,...|\n",
      "| spam|XXXMobileMovieClu...|   149|[xxxmobilemoviecl...|[xxxmobilemoviecl...|\n",
      "|  ham|Oh k...i'm watchi...|    26|[oh, k...i'm, wat...|[oh, k...i'm, wat...|\n",
      "|  ham|Eh u remember how...|    81|[eh, u, remember,...|[eh, u, remember,...|\n",
      "|  ham|Fine if thats th...|    56|[fine, if, thats...|[fine, thats, wa...|\n",
      "| spam|England v Macedon...|   155|[england, v, mace...|[england, v, mace...|\n",
      "+-----+--------------------+------+--------------------+--------------------+\n",
      "only showing top 20 rows\n",
      "\n"
     ]
    }
   ],
   "source": [
    "##remover_data.show()"
   ]
  },
  {
   "cell_type": "code",
   "execution_count": 103,
   "metadata": {},
   "outputs": [],
   "source": [
    "count_vec = CountVectorizer(inputCol = \"filtered\", outputCol = \"c_vec\")"
   ]
  },
  {
   "cell_type": "code",
   "execution_count": 143,
   "metadata": {},
   "outputs": [],
   "source": [
    "##count_vec_data = count_vec.fit(remover_data).transform(remover_data)"
   ]
  },
  {
   "cell_type": "code",
   "execution_count": 144,
   "metadata": {},
   "outputs": [
    {
     "name": "stdout",
     "output_type": "stream",
     "text": [
      "+-----+--------------------+------+--------------------+--------------------+--------------------+\n",
      "|class|                text|length|               words|            filtered|               c_vec|\n",
      "+-----+--------------------+------+--------------------+--------------------+--------------------+\n",
      "|  ham|Go until jurong p...|   111|[go, until, juron...|[go, jurong, poin...|(13666,[9,12,33,6...|\n",
      "|  ham|Ok lar... Joking ...|    29|[ok, lar..., joki...|[ok, lar..., joki...|(13666,[1,25,308,...|\n",
      "| spam|Free entry in 2 a...|   155|[free, entry, in,...|[free, entry, 2, ...|(13666,[3,15,21,3...|\n",
      "|  ham|U dun say so earl...|    49|[u, dun, say, so,...|[u, dun, say, ear...|(13666,[1,74,83,1...|\n",
      "|  ham|Nah I don't think...|    61|[nah, ı, don't, t...|[nah, ı, think, g...|(13666,[0,41,139,...|\n",
      "| spam|FreeMsg Hey there...|   147|[freemsg, hey, th...|[freemsg, hey, da...|(13666,[13,64,145...|\n",
      "|  ham|Even my brother i...|    77|[even, my, brothe...|[even, brother, l...|(13666,[13,55,106...|\n",
      "|  ham|As per your reque...|   160|[as, per, your, r...|[per, request, 'm...|(13666,[132,199,4...|\n",
      "| spam|WINNER!! As a val...|   157|[wınner!!, as, a,...|[wınner!!, valued...|(13666,[2,51,126,...|\n",
      "| spam|Had your mobile 1...|   154|[had, your, mobil...|[mobile, 11, mont...|(13666,[1,2,15,29...|\n",
      "|  ham|I'm gonna be home...|   109|[ı'm, gonna, be, ...|[ı'm, gonna, home...|(13666,[7,20,47,1...|\n",
      "| spam|SIX chances to wi...|   136|[sıx, chances, to...|[sıx, chances, wi...|(13666,[10,18,40,...|\n",
      "| spam|URGENT! You have ...|   155|[urgent!, you, ha...|[urgent!, won, 1,...|(13666,[15,32,90,...|\n",
      "|  ham|I've been searchi...|   196|[ı've, been, sear...|[ı've, searching,...|(13666,[0,43,102,...|\n",
      "|  ham|I HAVE A DATE ON ...|    35|[ı, have, a, date...|[ı, date, sunday,...|(13666,[0,560,615...|\n",
      "| spam|XXXMobileMovieClu...|   149|[xxxmobilemoviecl...|[xxxmobilemoviecl...|(13666,[32,113,11...|\n",
      "|  ham|Oh k...i'm watchi...|    26|[oh, k...i'm, wat...|[oh, k...i'm, wat...|(13666,[85,221,45...|\n",
      "|  ham|Eh u remember how...|    81|[eh, u, remember,...|[eh, u, remember,...|(13666,[1,3,52,14...|\n",
      "|  ham|Fine if thats th...|    56|[fine, if, thats...|[fine, thats, wa...|(13666,[1,79,109,...|\n",
      "| spam|England v Macedon...|   155|[england, v, mace...|[england, v, mace...|(13666,[5,32,36,6...|\n",
      "+-----+--------------------+------+--------------------+--------------------+--------------------+\n",
      "only showing top 20 rows\n",
      "\n"
     ]
    }
   ],
   "source": [
    "##count_vec_data.show()"
   ]
  },
  {
   "cell_type": "code",
   "execution_count": 104,
   "metadata": {},
   "outputs": [],
   "source": [
    "idf = IDF(inputCol = \"c_vec\", outputCol = \"tf_idf\")"
   ]
  },
  {
   "cell_type": "code",
   "execution_count": 145,
   "metadata": {},
   "outputs": [],
   "source": [
    "##idf_data = idf.fit(count_vec_data).transform(count_vec_data)"
   ]
  },
  {
   "cell_type": "code",
   "execution_count": 149,
   "metadata": {},
   "outputs": [
    {
     "name": "stdout",
     "output_type": "stream",
     "text": [
      "+-----------------------------------------------------------------------------------------------------------------------------------------------+\n",
      "|c_vec                                                                                                                                          |\n",
      "+-----------------------------------------------------------------------------------------------------------------------------------------------+\n",
      "|(13666,[9,12,33,65,75,344,635,711,1421,1706,4142,6875,7324,8596,11309,12788],[1.0,1.0,1.0,1.0,1.0,1.0,1.0,1.0,1.0,1.0,1.0,1.0,1.0,1.0,1.0,1.0])|\n",
      "+-----------------------------------------------------------------------------------------------------------------------------------------------+\n",
      "only showing top 1 row\n",
      "\n"
     ]
    }
   ],
   "source": [
    "##idf_data.select(\"c_vec\").show(1,truncate=False)"
   ]
  },
  {
   "cell_type": "code",
   "execution_count": 150,
   "metadata": {},
   "outputs": [
    {
     "name": "stdout",
     "output_type": "stream",
     "text": [
      "+-------------------------------------------------------------------------------------------------------------------------------------------------------------------------------------------------------------------------------------------------------------------------------------------------------------------------------------------------------------------------------------+\n",
      "|tf_idf                                                                                                                                                                                                                                                                                                                                                                               |\n",
      "+-------------------------------------------------------------------------------------------------------------------------------------------------------------------------------------------------------------------------------------------------------------------------------------------------------------------------------------------------------------------------------------+\n",
      "|(13666,[9,12,33,65,75,344,635,711,1421,1706,4142,6875,7324,8596,11309,12788],[3.1126188501633374,3.2055125970560336,3.822026551595063,4.207206988531722,4.32198250312415,5.407171771460119,5.917997395226109,6.141140946540319,6.680137447273006,6.8342881271002645,7.52743530766021,7.9329004157683745,7.9329004157683745,7.9329004157683745,7.9329004157683745,7.9329004157683745])|\n",
      "+-------------------------------------------------------------------------------------------------------------------------------------------------------------------------------------------------------------------------------------------------------------------------------------------------------------------------------------------------------------------------------------+\n",
      "only showing top 1 row\n",
      "\n"
     ]
    }
   ],
   "source": [
    "##idf_data.select(\"tf_idf\").show(1,truncate=False )"
   ]
  },
  {
   "cell_type": "code",
   "execution_count": 105,
   "metadata": {},
   "outputs": [],
   "source": [
    "ham_spam_to_numeric = StringIndexer(inputCol = \"class\", outputCol = \"label\")"
   ]
  },
  {
   "cell_type": "code",
   "execution_count": 106,
   "metadata": {},
   "outputs": [],
   "source": [
    "from pyspark.ml.feature import VectorAssembler"
   ]
  },
  {
   "cell_type": "code",
   "execution_count": 107,
   "metadata": {},
   "outputs": [],
   "source": [
    "assembler = VectorAssembler(inputCols =[\"tf_idf\",\"length\"],outputCol=\"features\")"
   ]
  },
  {
   "cell_type": "code",
   "execution_count": 108,
   "metadata": {},
   "outputs": [],
   "source": [
    "from pyspark.ml.classification import NaiveBayes"
   ]
  },
  {
   "cell_type": "code",
   "execution_count": 109,
   "metadata": {},
   "outputs": [],
   "source": [
    "nb = NaiveBayes()# using classification alogrithms generally common in NLP"
   ]
  },
  {
   "cell_type": "code",
   "execution_count": 110,
   "metadata": {},
   "outputs": [],
   "source": [
    "from pyspark.ml import Pipeline"
   ]
  },
  {
   "cell_type": "code",
   "execution_count": 111,
   "metadata": {},
   "outputs": [],
   "source": [
    "data_prep_pipe = Pipeline(stages = [ham_spam_to_numeric,tokenizer,remover,count_vec,idf,assembler])"
   ]
  },
  {
   "cell_type": "code",
   "execution_count": 112,
   "metadata": {},
   "outputs": [],
   "source": [
    "cleaner = data_prep_pipe.fit(data)"
   ]
  },
  {
   "cell_type": "code",
   "execution_count": 113,
   "metadata": {},
   "outputs": [],
   "source": [
    "clean_data = cleaner.transform(data)"
   ]
  },
  {
   "cell_type": "code",
   "execution_count": 115,
   "metadata": {},
   "outputs": [],
   "source": [
    "clean_data= clean_data.select(\"label\",\"features\")"
   ]
  },
  {
   "cell_type": "code",
   "execution_count": 116,
   "metadata": {},
   "outputs": [
    {
     "name": "stdout",
     "output_type": "stream",
     "text": [
      "+-----+--------------------+\n",
      "|label|            features|\n",
      "+-----+--------------------+\n",
      "|  0.0|(13667,[9,12,33,6...|\n",
      "|  0.0|(13667,[1,25,308,...|\n",
      "|  1.0|(13667,[3,15,21,3...|\n",
      "|  0.0|(13667,[1,74,83,1...|\n",
      "|  0.0|(13667,[0,41,139,...|\n",
      "|  1.0|(13667,[13,64,145...|\n",
      "|  0.0|(13667,[13,55,106...|\n",
      "|  0.0|(13667,[132,199,4...|\n",
      "|  1.0|(13667,[2,51,126,...|\n",
      "|  1.0|(13667,[1,2,15,29...|\n",
      "|  0.0|(13667,[7,20,47,1...|\n",
      "|  1.0|(13667,[10,18,40,...|\n",
      "|  1.0|(13667,[15,32,90,...|\n",
      "|  0.0|(13667,[0,43,102,...|\n",
      "|  0.0|(13667,[0,560,615...|\n",
      "|  1.0|(13667,[32,113,11...|\n",
      "|  0.0|(13667,[85,221,45...|\n",
      "|  0.0|(13667,[1,3,52,14...|\n",
      "|  0.0|(13667,[1,79,109,...|\n",
      "|  1.0|(13667,[5,32,36,6...|\n",
      "+-----+--------------------+\n",
      "only showing top 20 rows\n",
      "\n"
     ]
    }
   ],
   "source": [
    "clean_data.show()"
   ]
  },
  {
   "cell_type": "code",
   "execution_count": 117,
   "metadata": {},
   "outputs": [],
   "source": [
    "training,test = clean_data.randomSplit([0.7,0.3])"
   ]
  },
  {
   "cell_type": "code",
   "execution_count": 118,
   "metadata": {},
   "outputs": [],
   "source": [
    "spam_detector = nb.fit(training)"
   ]
  },
  {
   "cell_type": "code",
   "execution_count": 119,
   "metadata": {},
   "outputs": [
    {
     "data": {
      "text/plain": [
       "<bound method DataFrame.printSchema of DataFrame[class: string, text: string, length: int]>"
      ]
     },
     "execution_count": 119,
     "metadata": {},
     "output_type": "execute_result"
    }
   ],
   "source": [
    "data.printSchema"
   ]
  },
  {
   "cell_type": "code",
   "execution_count": 120,
   "metadata": {},
   "outputs": [],
   "source": [
    "test_results = spam_detector.transform(test)"
   ]
  },
  {
   "cell_type": "code",
   "execution_count": 121,
   "metadata": {},
   "outputs": [
    {
     "name": "stdout",
     "output_type": "stream",
     "text": [
      "+-----+--------------------+--------------------+--------------------+----------+\n",
      "|label|            features|       rawPrediction|         probability|prediction|\n",
      "+-----+--------------------+--------------------+--------------------+----------+\n",
      "|  0.0|(13667,[0,1,2,6,1...|[-1354.2666929240...|[1.0,6.3080421534...|       0.0|\n",
      "|  0.0|(13667,[0,1,2,7,1...|[-720.31897381467...|[1.0,8.4303877230...|       0.0|\n",
      "|  0.0|(13667,[0,1,2,9,1...|[-1203.5917480382...|[1.0,1.7536421866...|       0.0|\n",
      "|  0.0|(13667,[0,1,3,4,8...|[-3492.9475783291...|[1.0,7.5404685464...|       0.0|\n",
      "|  0.0|(13667,[0,1,3,4,8...|[-3492.9475783291...|[1.0,7.5404685464...|       0.0|\n",
      "|  0.0|(13667,[0,1,3,5,1...|[-1141.6428592031...|[1.0,6.5981860538...|       0.0|\n",
      "|  0.0|(13667,[0,1,3,9,1...|[-1372.0835578912...|[1.0,7.7415951642...|       0.0|\n",
      "|  0.0|(13667,[0,1,3,12,...|[-1823.6264820124...|[0.99905734282346...|       0.0|\n",
      "|  0.0|(13667,[0,1,3,22,...|[-402.08371876671...|[1.0,7.8582830810...|       0.0|\n",
      "|  0.0|(13667,[0,1,3,24,...|[-1227.5195386645...|[1.0,1.8504998146...|       0.0|\n",
      "|  0.0|(13667,[0,1,3,39,...|[-1212.9526748232...|[1.0,3.5641825250...|       0.0|\n",
      "|  0.0|(13667,[0,1,5,18,...|[-1022.3099024441...|[3.02985150614063...|       1.0|\n",
      "|  0.0|(13667,[0,1,5,31,...|[-807.32756557281...|[1.0,6.7343882550...|       0.0|\n",
      "|  0.0|(13667,[0,1,5,41,...|[-689.44133723730...|[0.99999999999805...|       0.0|\n",
      "|  0.0|(13667,[0,1,5,41,...|[-1166.2401354366...|[0.99999999999999...|       0.0|\n",
      "|  0.0|(13667,[0,1,5,68,...|[-3117.4532553073...|[1.0,3.4392632263...|       0.0|\n",
      "|  0.0|(13667,[0,1,6,29,...|[-1016.0969073793...|[1.0,9.0185634307...|       0.0|\n",
      "|  0.0|(13667,[0,1,6,39,...|[-390.76651884973...|[0.99999999956254...|       0.0|\n",
      "|  0.0|(13667,[0,1,6,173...|[-637.20113770514...|[1.0,7.2748565624...|       0.0|\n",
      "|  0.0|(13667,[0,1,9,19,...|[-1109.2430885733...|[1.0,2.0769088333...|       0.0|\n",
      "+-----+--------------------+--------------------+--------------------+----------+\n",
      "only showing top 20 rows\n",
      "\n"
     ]
    }
   ],
   "source": [
    "test_results.show()"
   ]
  },
  {
   "cell_type": "code",
   "execution_count": 122,
   "metadata": {},
   "outputs": [],
   "source": [
    "from pyspark.ml.evaluation import MulticlassClassificationEvaluator"
   ]
  },
  {
   "cell_type": "code",
   "execution_count": 135,
   "metadata": {},
   "outputs": [],
   "source": [
    "naiveb_acc_eval = MulticlassClassificationEvaluator()"
   ]
  },
  {
   "cell_type": "code",
   "execution_count": 136,
   "metadata": {},
   "outputs": [
    {
     "data": {
      "text/plain": [
       "0.9339149329378885"
      ]
     },
     "execution_count": 136,
     "metadata": {},
     "output_type": "execute_result"
    }
   ],
   "source": [
    "naiveb_acc_eval.evaluate(test_results)"
   ]
  },
  {
   "cell_type": "code",
   "execution_count": 125,
   "metadata": {},
   "outputs": [],
   "source": [
    "from pyspark.ml.classification import RandomForestClassifier"
   ]
  },
  {
   "cell_type": "code",
   "execution_count": 126,
   "metadata": {},
   "outputs": [],
   "source": [
    "rfc = RandomForestClassifier(labelCol = \"label\", featuresCol = \"features\")"
   ]
  },
  {
   "cell_type": "code",
   "execution_count": 127,
   "metadata": {},
   "outputs": [],
   "source": [
    "rfc_model = rfc.fit(training)"
   ]
  },
  {
   "cell_type": "code",
   "execution_count": 128,
   "metadata": {},
   "outputs": [],
   "source": [
    "rfc_preds = rfc_model.transform(test)"
   ]
  },
  {
   "cell_type": "code",
   "execution_count": 130,
   "metadata": {},
   "outputs": [
    {
     "name": "stdout",
     "output_type": "stream",
     "text": [
      "+-----+--------------------+--------------------+--------------------+----------+\n",
      "|label|            features|       rawPrediction|         probability|prediction|\n",
      "+-----+--------------------+--------------------+--------------------+----------+\n",
      "|  0.0|(13667,[0,1,2,6,1...|[16.9661051391126...|[0.84830525695563...|       0.0|\n",
      "|  0.0|(13667,[0,1,2,7,1...|[17.8706062224444...|[0.89353031112222...|       0.0|\n",
      "|  0.0|(13667,[0,1,2,9,1...|[16.7930367684457...|[0.83965183842228...|       0.0|\n",
      "|  0.0|(13667,[0,1,3,4,8...|[17.2855348614912...|[0.86427674307456...|       0.0|\n",
      "|  0.0|(13667,[0,1,3,4,8...|[17.2855348614912...|[0.86427674307456...|       0.0|\n",
      "|  0.0|(13667,[0,1,3,5,1...|[17.4594352632629...|[0.87297176316314...|       0.0|\n",
      "|  0.0|(13667,[0,1,3,9,1...|[17.2855348614912...|[0.86427674307456...|       0.0|\n",
      "|  0.0|(13667,[0,1,3,12,...|[16.2078995190751...|[0.81039497595375...|       0.0|\n",
      "|  0.0|(13667,[0,1,3,22,...|[17.6802857433726...|[0.88401428716863...|       0.0|\n",
      "|  0.0|(13667,[0,1,3,24,...|[17.6802857433726...|[0.88401428716863...|       0.0|\n",
      "|  0.0|(13667,[0,1,3,39,...|[17.2855348614912...|[0.86427674307456...|       0.0|\n",
      "|  0.0|(13667,[0,1,5,18,...|[17.6850336551527...|[0.88425168275763...|       0.0|\n",
      "|  0.0|(13667,[0,1,5,31,...|[17.6850336551527...|[0.88425168275763...|       0.0|\n",
      "|  0.0|(13667,[0,1,5,41,...|[17.6850336551527...|[0.88425168275763...|       0.0|\n",
      "|  0.0|(13667,[0,1,5,41,...|[17.6850336551527...|[0.88425168275763...|       0.0|\n",
      "|  0.0|(13667,[0,1,5,68,...|[17.2902827732713...|[0.86451413866356...|       0.0|\n",
      "|  0.0|(13667,[0,1,6,29,...|[17.5111332533810...|[0.87555666266905...|       0.0|\n",
      "|  0.0|(13667,[0,1,6,39,...|[17.9058841352624...|[0.89529420676312...|       0.0|\n",
      "|  0.0|(13667,[0,1,6,173...|[17.9058841352624...|[0.89529420676312...|       0.0|\n",
      "|  0.0|(13667,[0,1,9,19,...|[17.5111332533810...|[0.87555666266905...|       0.0|\n",
      "+-----+--------------------+--------------------+--------------------+----------+\n",
      "only showing top 20 rows\n",
      "\n"
     ]
    }
   ],
   "source": [
    "rfc_preds.show()"
   ]
  },
  {
   "cell_type": "code",
   "execution_count": 131,
   "metadata": {},
   "outputs": [],
   "source": [
    "rfc_acc = MulticlassClassificationEvaluator()"
   ]
  },
  {
   "cell_type": "code",
   "execution_count": 132,
   "metadata": {},
   "outputs": [
    {
     "data": {
      "text/plain": [
       "0.8284927416540367"
      ]
     },
     "execution_count": 132,
     "metadata": {},
     "output_type": "execute_result"
    }
   ],
   "source": [
    "rfc_acc.evaluate(rfc_preds)"
   ]
  },
  {
   "cell_type": "code",
   "execution_count": null,
   "metadata": {},
   "outputs": [],
   "source": []
  }
 ],
 "metadata": {
  "kernelspec": {
   "display_name": "Python 3",
   "language": "python",
   "name": "python3"
  },
  "language_info": {
   "codemirror_mode": {
    "name": "ipython",
    "version": 3
   },
   "file_extension": ".py",
   "mimetype": "text/x-python",
   "name": "python",
   "nbconvert_exporter": "python",
   "pygments_lexer": "ipython3",
   "version": "3.8.5"
  }
 },
 "nbformat": 4,
 "nbformat_minor": 4
}
