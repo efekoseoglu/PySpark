{
 "cells": [
  {
   "cell_type": "code",
   "execution_count": 1,
   "metadata": {},
   "outputs": [],
   "source": [
    "import pyspark"
   ]
  },
  {
   "cell_type": "code",
   "execution_count": 2,
   "metadata": {},
   "outputs": [],
   "source": [
    "from pyspark.sql import SparkSession"
   ]
  },
  {
   "cell_type": "code",
   "execution_count": 4,
   "metadata": {},
   "outputs": [],
   "source": [
    "spark = SparkSession.builder.appName(\"Practise\").getOrCreate()"
   ]
  },
  {
   "cell_type": "code",
   "execution_count": 5,
   "metadata": {},
   "outputs": [],
   "source": [
    "df= spark.read.csv(\"Data.csv\",header=True, inferSchema=True)"
   ]
  },
  {
   "cell_type": "code",
   "execution_count": 6,
   "metadata": {},
   "outputs": [
    {
     "name": "stdout",
     "output_type": "stream",
     "text": [
      "+-------+----+------+---------+\n",
      "|Country| Age|Salary|Purchased|\n",
      "+-------+----+------+---------+\n",
      "| France|  44| 72000|       No|\n",
      "|  Spain|  27| 48000|      Yes|\n",
      "|Germany|  30| 54000|       No|\n",
      "|  Spain|  38| 61000|       No|\n",
      "|Germany|  40|  NULL|      Yes|\n",
      "| France|  35| 58000|      Yes|\n",
      "|  Spain|NULL| 52000|       No|\n",
      "| France|  48| 79000|      Yes|\n",
      "|Germany|  50| 83000|     NULL|\n",
      "| France|  37| 67000|      Yes|\n",
      "+-------+----+------+---------+\n",
      "\n"
     ]
    }
   ],
   "source": [
    "df.show()"
   ]
  },
  {
   "cell_type": "markdown",
   "metadata": {},
   "source": [
    "### Filter Operations "
   ]
  },
  {
   "cell_type": "code",
   "execution_count": 8,
   "metadata": {},
   "outputs": [],
   "source": [
    "### Salary of the people less than or equal to 20000"
   ]
  },
  {
   "cell_type": "code",
   "execution_count": 12,
   "metadata": {},
   "outputs": [
    {
     "name": "stdout",
     "output_type": "stream",
     "text": [
      "+-------+----+------+---------+\n",
      "|Country| Age|Salary|Purchased|\n",
      "+-------+----+------+---------+\n",
      "|  Spain|  27| 48000|      Yes|\n",
      "|Germany|  30| 54000|       No|\n",
      "| France|  35| 58000|      Yes|\n",
      "|  Spain|NULL| 52000|       No|\n",
      "+-------+----+------+---------+\n",
      "\n"
     ]
    }
   ],
   "source": [
    "df.filter(\"Salary<60000\").show()"
   ]
  },
  {
   "cell_type": "code",
   "execution_count": 13,
   "metadata": {},
   "outputs": [
    {
     "name": "stdout",
     "output_type": "stream",
     "text": [
      "+-------+----+\n",
      "|Country| Age|\n",
      "+-------+----+\n",
      "|  Spain|  27|\n",
      "|Germany|  30|\n",
      "| France|  35|\n",
      "|  Spain|NULL|\n",
      "+-------+----+\n",
      "\n"
     ]
    }
   ],
   "source": [
    "df.filter(\"Salary<60000\").select([\"Country\",\"Age\"]).show()"
   ]
  },
  {
   "cell_type": "code",
   "execution_count": 37,
   "metadata": {},
   "outputs": [
    {
     "name": "stdout",
     "output_type": "stream",
     "text": [
      "+-------+----+------+---------+\n",
      "|Country| Age|Salary|Purchased|\n",
      "+-------+----+------+---------+\n",
      "|Germany|  30| 54000|       No|\n",
      "| France|  35| 58000|      Yes|\n",
      "|  Spain|NULL| 52000|       No|\n",
      "+-------+----+------+---------+\n",
      "\n"
     ]
    }
   ],
   "source": [
    "df.filter((df.Salary<=60000) & (df.Salary>=50000)).show()"
   ]
  },
  {
   "cell_type": "code",
   "execution_count": 38,
   "metadata": {},
   "outputs": [
    {
     "name": "stdout",
     "output_type": "stream",
     "text": [
      "+-------+---+------+---------+\n",
      "|Country|Age|Salary|Purchased|\n",
      "+-------+---+------+---------+\n",
      "| France| 44| 72000|       No|\n",
      "|  Spain| 38| 61000|       No|\n",
      "| France| 48| 79000|      Yes|\n",
      "|Germany| 50| 83000|     NULL|\n",
      "| France| 37| 67000|      Yes|\n",
      "+-------+---+------+---------+\n",
      "\n"
     ]
    }
   ],
   "source": [
    "df.filter(~(df.Salary<=60000)).show() ## NOT operator"
   ]
  },
  {
   "cell_type": "code",
   "execution_count": null,
   "metadata": {},
   "outputs": [],
   "source": []
  }
 ],
 "metadata": {
  "kernelspec": {
   "display_name": "Python 3",
   "language": "python",
   "name": "python3"
  },
  "language_info": {
   "codemirror_mode": {
    "name": "ipython",
    "version": 3
   },
   "file_extension": ".py",
   "mimetype": "text/x-python",
   "name": "python",
   "nbconvert_exporter": "python",
   "pygments_lexer": "ipython3",
   "version": "3.8.5"
  }
 },
 "nbformat": 4,
 "nbformat_minor": 4
}
