{
 "cells": [
  {
   "cell_type": "code",
   "execution_count": 48,
   "metadata": {},
   "outputs": [],
   "source": [
    "from pyspark.sql import SparkSession\n",
    "spark=SparkSession.builder.appName(\"Missing\").getOrCreate()"
   ]
  },
  {
   "cell_type": "code",
   "execution_count": 49,
   "metadata": {},
   "outputs": [],
   "source": [
    "training = spark.read.csv(\"50_Startups.csv\",header=True,inferSchema=True)"
   ]
  },
  {
   "cell_type": "code",
   "execution_count": 50,
   "metadata": {},
   "outputs": [
    {
     "name": "stdout",
     "output_type": "stream",
     "text": [
      "+---------+--------------+---------------+----------+---------+\n",
      "|R&D Spend|Administration|Marketing Spend|     State|   Profit|\n",
      "+---------+--------------+---------------+----------+---------+\n",
      "| 165349.2|      136897.8|       471784.1|  New York|192261.83|\n",
      "| 162597.7|     151377.59|      443898.53|California|191792.06|\n",
      "|153441.51|     101145.55|      407934.54|   Florida|191050.39|\n",
      "|144372.41|     118671.85|      383199.62|  New York|182901.99|\n",
      "|142107.34|      91391.77|      366168.42|   Florida|166187.94|\n",
      "| 131876.9|      99814.71|      362861.36|  New York|156991.12|\n",
      "|134615.46|     147198.87|      127716.82|California|156122.51|\n",
      "|130298.13|     145530.06|      323876.68|   Florida| 155752.6|\n",
      "|120542.52|     148718.95|      311613.29|  New York|152211.77|\n",
      "|123334.88|     108679.17|      304981.62|California|149759.96|\n",
      "|101913.08|     110594.11|      229160.95|   Florida|146121.95|\n",
      "|100671.96|      91790.61|      249744.55|California| 144259.4|\n",
      "| 93863.75|     127320.38|      249839.44|   Florida|141585.52|\n",
      "| 91992.39|     135495.07|      252664.93|California|134307.35|\n",
      "|119943.24|     156547.42|      256512.92|   Florida|132602.65|\n",
      "|114523.61|     122616.84|      261776.23|  New York|129917.04|\n",
      "| 78013.11|     121597.55|      264346.06|California|126992.93|\n",
      "| 94657.16|     145077.58|      282574.31|  New York|125370.37|\n",
      "| 91749.16|     114175.79|      294919.57|   Florida| 124266.9|\n",
      "|  86419.7|     153514.11|            0.0|  New York|122776.86|\n",
      "+---------+--------------+---------------+----------+---------+\n",
      "only showing top 20 rows\n",
      "\n"
     ]
    }
   ],
   "source": [
    "training.show()"
   ]
  },
  {
   "cell_type": "code",
   "execution_count": 51,
   "metadata": {},
   "outputs": [
    {
     "name": "stdout",
     "output_type": "stream",
     "text": [
      "root\n",
      " |-- R&D Spend: double (nullable = true)\n",
      " |-- Administration: double (nullable = true)\n",
      " |-- Marketing Spend: double (nullable = true)\n",
      " |-- State: string (nullable = true)\n",
      " |-- Profit: double (nullable = true)\n",
      "\n"
     ]
    }
   ],
   "source": [
    "training.printSchema()"
   ]
  },
  {
   "cell_type": "code",
   "execution_count": 52,
   "metadata": {},
   "outputs": [],
   "source": [
    "## we're going to group all features with the help of vector assembler"
   ]
  },
  {
   "cell_type": "code",
   "execution_count": 53,
   "metadata": {},
   "outputs": [
    {
     "data": {
      "text/plain": [
       "['R&D Spend', 'Administration', 'Marketing Spend', 'State', 'Profit']"
      ]
     },
     "execution_count": 53,
     "metadata": {},
     "output_type": "execute_result"
    }
   ],
   "source": [
    "training.columns"
   ]
  },
  {
   "cell_type": "code",
   "execution_count": 54,
   "metadata": {},
   "outputs": [],
   "source": [
    "##[\"R&D Spend\",\"Administration\",\"Marketing Spend\"]---> new feature----> independent feature"
   ]
  },
  {
   "cell_type": "code",
   "execution_count": 55,
   "metadata": {},
   "outputs": [],
   "source": [
    "from pyspark.ml.feature import VectorAssembler\n",
    "featureAssembler=VectorAssembler(inputCols=[\"R&D Spend\",\"Administration\"],outputCol=\"Independent Features\")"
   ]
  },
  {
   "cell_type": "code",
   "execution_count": 56,
   "metadata": {},
   "outputs": [
    {
     "name": "stdout",
     "output_type": "stream",
     "text": [
      "+---------+--------------+---------------+----------+---------+--------------------+\n",
      "|R&D Spend|Administration|Marketing Spend|     State|   Profit|Independent Features|\n",
      "+---------+--------------+---------------+----------+---------+--------------------+\n",
      "| 165349.2|      136897.8|       471784.1|  New York|192261.83| [165349.2,136897.8]|\n",
      "| 162597.7|     151377.59|      443898.53|California|191792.06|[162597.7,151377.59]|\n",
      "|153441.51|     101145.55|      407934.54|   Florida|191050.39|[153441.51,101145...|\n",
      "|144372.41|     118671.85|      383199.62|  New York|182901.99|[144372.41,118671...|\n",
      "|142107.34|      91391.77|      366168.42|   Florida|166187.94|[142107.34,91391.77]|\n",
      "| 131876.9|      99814.71|      362861.36|  New York|156991.12| [131876.9,99814.71]|\n",
      "|134615.46|     147198.87|      127716.82|California|156122.51|[134615.46,147198...|\n",
      "|130298.13|     145530.06|      323876.68|   Florida| 155752.6|[130298.13,145530...|\n",
      "|120542.52|     148718.95|      311613.29|  New York|152211.77|[120542.52,148718...|\n",
      "|123334.88|     108679.17|      304981.62|California|149759.96|[123334.88,108679...|\n",
      "|101913.08|     110594.11|      229160.95|   Florida|146121.95|[101913.08,110594...|\n",
      "|100671.96|      91790.61|      249744.55|California| 144259.4|[100671.96,91790.61]|\n",
      "| 93863.75|     127320.38|      249839.44|   Florida|141585.52|[93863.75,127320.38]|\n",
      "| 91992.39|     135495.07|      252664.93|California|134307.35|[91992.39,135495.07]|\n",
      "|119943.24|     156547.42|      256512.92|   Florida|132602.65|[119943.24,156547...|\n",
      "|114523.61|     122616.84|      261776.23|  New York|129917.04|[114523.61,122616...|\n",
      "| 78013.11|     121597.55|      264346.06|California|126992.93|[78013.11,121597.55]|\n",
      "| 94657.16|     145077.58|      282574.31|  New York|125370.37|[94657.16,145077.58]|\n",
      "| 91749.16|     114175.79|      294919.57|   Florida| 124266.9|[91749.16,114175.79]|\n",
      "|  86419.7|     153514.11|            0.0|  New York|122776.86| [86419.7,153514.11]|\n",
      "+---------+--------------+---------------+----------+---------+--------------------+\n",
      "only showing top 20 rows\n",
      "\n"
     ]
    }
   ],
   "source": [
    "output=featureAssembler.transform(training)\n",
    "output.show()\n"
   ]
  },
  {
   "cell_type": "code",
   "execution_count": 57,
   "metadata": {},
   "outputs": [],
   "source": [
    "finalized_data=output.select(\"Independent Features\",\"Profit\")"
   ]
  },
  {
   "cell_type": "code",
   "execution_count": 58,
   "metadata": {},
   "outputs": [
    {
     "name": "stdout",
     "output_type": "stream",
     "text": [
      "+--------------------+---------+\n",
      "|Independent Features|   Profit|\n",
      "+--------------------+---------+\n",
      "| [165349.2,136897.8]|192261.83|\n",
      "|[162597.7,151377.59]|191792.06|\n",
      "|[153441.51,101145...|191050.39|\n",
      "|[144372.41,118671...|182901.99|\n",
      "|[142107.34,91391.77]|166187.94|\n",
      "| [131876.9,99814.71]|156991.12|\n",
      "|[134615.46,147198...|156122.51|\n",
      "|[130298.13,145530...| 155752.6|\n",
      "|[120542.52,148718...|152211.77|\n",
      "|[123334.88,108679...|149759.96|\n",
      "|[101913.08,110594...|146121.95|\n",
      "|[100671.96,91790.61]| 144259.4|\n",
      "|[93863.75,127320.38]|141585.52|\n",
      "|[91992.39,135495.07]|134307.35|\n",
      "|[119943.24,156547...|132602.65|\n",
      "|[114523.61,122616...|129917.04|\n",
      "|[78013.11,121597.55]|126992.93|\n",
      "|[94657.16,145077.58]|125370.37|\n",
      "|[91749.16,114175.79]| 124266.9|\n",
      "| [86419.7,153514.11]|122776.86|\n",
      "+--------------------+---------+\n",
      "only showing top 20 rows\n",
      "\n"
     ]
    }
   ],
   "source": [
    "finalized_data.show()"
   ]
  },
  {
   "cell_type": "code",
   "execution_count": 59,
   "metadata": {},
   "outputs": [],
   "source": [
    "from pyspark.ml.regression import LinearRegression\n",
    "### Train-Test split\n",
    "train_data, test_data=finalized_data.randomSplit([0.75,0.25])\n",
    "regressor=LinearRegression(featuresCol=\"Independent Features\",labelCol=\"Profit\")\n",
    "regressor= regressor.fit(train_data)"
   ]
  },
  {
   "cell_type": "code",
   "execution_count": 60,
   "metadata": {},
   "outputs": [
    {
     "data": {
      "text/plain": [
       "DenseVector([0.8573, -0.0977])"
      ]
     },
     "execution_count": 60,
     "metadata": {},
     "output_type": "execute_result"
    }
   ],
   "source": [
    "### Coefficients\n",
    "regressor.coefficients"
   ]
  },
  {
   "cell_type": "code",
   "execution_count": 61,
   "metadata": {},
   "outputs": [
    {
     "data": {
      "text/plain": [
       "60303.32041913629"
      ]
     },
     "execution_count": 61,
     "metadata": {},
     "output_type": "execute_result"
    }
   ],
   "source": [
    "### Intercepts\n",
    "regressor.intercept"
   ]
  },
  {
   "cell_type": "code",
   "execution_count": 62,
   "metadata": {},
   "outputs": [],
   "source": [
    "### Prediction\n",
    "pred_results=regressor.evaluate(test_data)"
   ]
  },
  {
   "cell_type": "code",
   "execution_count": 63,
   "metadata": {},
   "outputs": [
    {
     "name": "stdout",
     "output_type": "stream",
     "text": [
      "+--------------------+---------+------------------+\n",
      "|Independent Features|   Profit|        prediction|\n",
      "+--------------------+---------+------------------+\n",
      "|     [0.0,135426.92]| 42559.73| 47067.05185235753|\n",
      "|   [542.05,51743.15]| 35673.41| 55710.80528339601|\n",
      "| [1315.46,115816.21]| 49490.75| 50111.55250894356|\n",
      "|[22177.74,154806.14]| 65200.33| 64186.93136421743|\n",
      "|[28663.76,127056.21]| 90708.19| 72459.88662001677|\n",
      "|[64664.71,139553.16]|107404.34|102103.66765499633|\n",
      "|[66051.52,182645.56]|103282.38| 99080.90386749218|\n",
      "| [86419.7,153514.11]|122776.86| 119390.6723377567|\n",
      "|[91992.39,135495.07]|134307.35|125929.51814112751|\n",
      "|[100671.96,91790.61]| 144259.4|137642.45392758338|\n",
      "|[101913.08,110594...|146121.95|136868.71645915782|\n",
      "|[114523.61,122616...|129917.04|146505.20937266207|\n",
      "| [165349.2,136897.8]|192261.83|188684.44271058965|\n",
      "+--------------------+---------+------------------+\n",
      "\n"
     ]
    }
   ],
   "source": [
    "pred_results.predictions.show()"
   ]
  },
  {
   "cell_type": "code",
   "execution_count": 68,
   "metadata": {},
   "outputs": [
    {
     "data": {
      "text/plain": [
       "100077026.20027742"
      ]
     },
     "execution_count": 68,
     "metadata": {},
     "output_type": "execute_result"
    }
   ],
   "source": [
    "pred_results.meanSquaredError"
   ]
  },
  {
   "cell_type": "code",
   "execution_count": null,
   "metadata": {},
   "outputs": [],
   "source": []
  }
 ],
 "metadata": {
  "kernelspec": {
   "display_name": "Python 3",
   "language": "python",
   "name": "python3"
  },
  "language_info": {
   "codemirror_mode": {
    "name": "ipython",
    "version": 3
   },
   "file_extension": ".py",
   "mimetype": "text/x-python",
   "name": "python",
   "nbconvert_exporter": "python",
   "pygments_lexer": "ipython3",
   "version": "3.8.5"
  }
 },
 "nbformat": 4,
 "nbformat_minor": 4
}
